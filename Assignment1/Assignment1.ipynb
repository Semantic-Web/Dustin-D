{
 "cells": [
  {
   "cell_type": "markdown",
   "metadata": {},
   "source": [
    "This program will print a table and plot a bar-chart.\n",
    "\n",
    "This script depends on the following packages:\n",
    "\n",
    "- pandas\n",
    "- numpy\n",
    "- seaborn\n",
    "- matplotlib\n",
    "- tabulate\n",
    "\n",
    "You may install each using *pip*/*PyPI* (or using whatever IDE function is available to search and install packages). You may also install the complete set of requirements using the *requirements.txt* file included as part of this project:\n",
    "\n",
    "    sudo pip install -r requirements.txt\n",
    "\n",
    "The following is a walkthrough of the code."
   ]
  },
  {
   "cell_type": "markdown",
   "metadata": {},
   "source": [
    "Do the imports. Note that we add \"inline\" to the *matplotlib* import so that the graphics end-up in the notebook:"
   ]
  },
  {
   "cell_type": "code",
   "execution_count": 1,
   "metadata": {
    "collapsed": false
   },
   "outputs": [],
   "source": [
    "# Tell ipython to load the matplotlib environment.\n",
    "%matplotlib inline\n",
    "\n",
    "import itertools\n",
    "\n",
    "import pandas\n",
    "import numpy\n",
    "import seaborn\n",
    "import matplotlib.pyplot\n",
    "import tabulate"
   ]
  },
  {
   "cell_type": "markdown",
   "metadata": {},
   "source": [
    "Set configurables:"
   ]
  },
  {
   "cell_type": "code",
   "execution_count": 2,
   "metadata": {
    "collapsed": true
   },
   "outputs": [],
   "source": [
    "_DATA_FILEPATH = 'datagovdatasetsviewmetrics.csv'\n",
    "_ROTATION_DEGREES = 90\n",
    "_BOTTOM_MARGIN = 0.35\n",
    "_COLOR_THEME = 'coolwarm'\n",
    "_LABEL_X = 'Organizations'\n",
    "_LABEL_Y = 'Views'\n",
    "_TITLE = 'Organizations with Most Views'\n",
    "_ORGANIZATION_COUNT = 10\n",
    "_MAX_LABEL_LENGTH = 20"
   ]
  },
  {
   "cell_type": "markdown",
   "metadata": {},
   "source": [
    "We use *[pandas](http://pandas.pydata.org)* to read, group, and sort our data:"
   ]
  },
  {
   "cell_type": "code",
   "execution_count": 3,
   "metadata": {
    "collapsed": true
   },
   "outputs": [],
   "source": [
    "def read_data():\n",
    "    d = pandas.read_csv(_DATA_FILEPATH)\n",
    "\n",
    "    return d\n",
    "    \n",
    "def process_data(d):\n",
    "    # Group by organization.\n",
    "\n",
    "    def sum_views(df):\n",
    "        return sum(df['Views per Month'])\n",
    "\n",
    "    g = d.groupby('Organization Name').apply(sum_views)\n",
    "\n",
    "    # Sort by views (descendingly).\n",
    "\n",
    "    g.sort(ascending=False)\n",
    "\n",
    "    # Grab the first N to plot.\n",
    "\n",
    "    items = g.iteritems()\n",
    "    s = itertools.islice(items, 0, _ORGANIZATION_COUNT)\n",
    "\n",
    "    s = list(s)\n",
    "\n",
    "    # Sort them in ascending order, this time, so that the larger ones are on \n",
    "    # the right (in red) in the chart. This has a side-effect of flattening the \n",
    "    # generator while we're at it.\n",
    "    s = sorted(s, key=lambda (n, v): v)\n",
    "\n",
    "    # Truncate the names (otherwise they're unwieldy).\n",
    "\n",
    "    distilled = []\n",
    "    for (name, views) in s:\n",
    "        if len(name) > (_MAX_LABEL_LENGTH - 3):\n",
    "            name = name[:17] + '...'\n",
    "\n",
    "        distilled.append((name, views))\n",
    "\n",
    "    return distilled"
   ]
  },
  {
   "cell_type": "markdown",
   "metadata": {},
   "source": [
    "Use the *[tabulate](https://pypi.python.org/pypi/tabulate)* library to render a nice table. This is one of my most favorite Python tools:"
   ]
  },
  {
   "cell_type": "code",
   "execution_count": 4,
   "metadata": {
    "collapsed": true
   },
   "outputs": [],
   "source": [
    "def print_table(distilled):\n",
    "    headings = ['Organization', 'Views']\n",
    "    print(tabulate.tabulate(distilled, headers=headings))"
   ]
  },
  {
   "cell_type": "markdown",
   "metadata": {},
   "source": [
    "Use *[seaborn](http://stanford.edu/~mwaskom/software/seaborn)* (one of the nicest chart-libraries for Python) to make a bar-chart. Notice that *pandas* is just a layer around *[numpy](http://www.numpy.org/)*."
   ]
  },
  {
   "cell_type": "code",
   "execution_count": 5,
   "metadata": {
    "collapsed": true
   },
   "outputs": [],
   "source": [
    "def plot_chart(distilled):\n",
    "    # Split the series into separate vectors of labels and values.\n",
    "\n",
    "    labels_raw = []\n",
    "    values_raw = []\n",
    "    for (name, views) in distilled:\n",
    "        labels_raw.append(name)\n",
    "        values_raw.append(views)\n",
    "\n",
    "    labels = numpy.array(labels_raw)\n",
    "    values = numpy.array(values_raw)\n",
    "\n",
    "    # Create one plot.\n",
    "\n",
    "    seaborn.set(style=\"white\", context=\"talk\")\n",
    "\n",
    "    (f, ax) = matplotlib.pyplot.subplots(1)\n",
    "\n",
    "    b = seaborn.barplot(\n",
    "        labels, \n",
    "        values,\n",
    "        ci=None, \n",
    "        palette=_COLOR_THEME, \n",
    "        hline=0, \n",
    "        ax=ax,\n",
    "        x_order=labels)\n",
    "\n",
    "    # Set labels.\n",
    "\n",
    "    ax.set_title(_TITLE)\n",
    "    ax.set_xlabel(_LABEL_X)\n",
    "    ax.set_ylabel(_LABEL_Y)\n",
    "\n",
    "    # Rotate the x-labels (otherwise they'll overlap). Seaborn also doesn't do \n",
    "    # very well with diagonal labels so we'll go vertical.\n",
    "    b.set_xticklabels(labels, rotation=_ROTATION_DEGREES)\n",
    "\n",
    "    # Add some margin to the bottom so the labels aren't cut-off.\n",
    "    matplotlib.pyplot.subplots_adjust(bottom=_BOTTOM_MARGIN)"
   ]
  },
  {
   "cell_type": "markdown",
   "metadata": {},
   "source": [
    "Run the program:"
   ]
  },
  {
   "cell_type": "code",
   "execution_count": 6,
   "metadata": {
    "collapsed": false
   },
   "outputs": [
    {
     "name": "stdout",
     "output_type": "stream",
     "text": [
      "Organization            Views\n",
      "--------------------  -------\n",
      "General Services ...    21144\n",
      "Earth Data Analys...    25857\n",
      "Department of Edu...    27300\n",
      "Department of Tra...    27865\n",
      "Department of Def...    28536\n",
      "U.S. Department o...    41642\n",
      "Department of Agr...    47002\n",
      "U.S. Geological S...    66755\n",
      "National Oceanic ...    82959\n",
      "US Census Bureau,...    97789\n"
     ]
    },
    {
     "data": {
      "image/png": "[encoded data removed]",
      "text/plain": [
       "<matplotlib.figure.Figure at 0x1139d1ad0>"
      ]
     },
     "metadata": {},
     "output_type": "display_data"
    }
   ],
   "source": [
    "df = read_data()\n",
    "distilled = process_data(df)\n",
    "\n",
    "print_table(distilled)\n",
    "plot_chart(distilled)"
   ]
  }
 ],
 "metadata": {
  "kernelspec": {
   "display_name": "Python 2",
   "language": "python",
   "name": "python2"
  },
  "language_info": {
   "codemirror_mode": {
    "name": "ipython",
    "version": 2
   },
   "file_extension": ".py",
   "mimetype": "text/x-python",
   "name": "python",
   "nbconvert_exporter": "python",
   "pygments_lexer": "ipython2",
   "version": "2.7.9"
  }
 },
 "nbformat": 4,
 "nbformat_minor": 0
}
